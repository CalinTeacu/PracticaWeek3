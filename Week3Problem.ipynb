{
 "cells": [
  {
   "cell_type": "markdown",
   "id": "b957344b",
   "metadata": {},
   "source": [
    "Just wrote sth in it\n"
   ]
  }
 ],
 "metadata": {
  "language_info": {
   "name": "python"
  }
 },
 "nbformat": 4,
 "nbformat_minor": 5
}
